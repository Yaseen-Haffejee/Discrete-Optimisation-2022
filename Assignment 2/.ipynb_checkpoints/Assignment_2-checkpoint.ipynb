{
 "cells": [
  {
   "cell_type": "markdown",
   "id": "670d707c",
   "metadata": {},
   "source": [
    "# Yaseen Haffejee 1827555\n",
    "# Discrete Optimisation Assignment 2"
   ]
  },
  {
   "cell_type": "code",
   "execution_count": 1,
   "id": "912bccfb",
   "metadata": {},
   "outputs": [],
   "source": [
    "import numpy as np"
   ]
  },
  {
   "cell_type": "markdown",
   "id": "a37917fe",
   "metadata": {},
   "source": [
    "# Question"
   ]
  },
  {
   "cell_type": "markdown",
   "id": "2103c9ca",
   "metadata": {},
   "source": [
    "Consider the following distance matrix for the 7 city symmetric Travelling Salesman Problem (STSP): <br>\n",
    "$$M = \\begin{bmatrix} 0 & 1.5 & 3 & 13 & 3.5 & 4.5 & 1.5 \\\\ \n",
    "& 0 & 1.5 & 1.3& 13& 13&2.3 \\\\\n",
    "&& 0 & 1.5 & 3& 13&3\\\\\n",
    "&&& 0 & 1.5 & 13& 20\\\\\n",
    "&&&& 0 & 1.5 & 3.3\\\\\n",
    "&&&&& 0 & 1.5\\\\\n",
    "&&&&&& 0\\\\\n",
    "\\end{bmatrix}$$\n",
    "<br>\n",
    "where $m_{ij} = m_{ji}$. <br>\n",
    "Minimize the above problem using the 2-Opt heuristic. <br>\n",
    "Use $x = (2,7,1,4,6,5,3)$ as your starting solution. <br>\n",
    "Count the number of improving solutions during the course of your two optimal procedure and list your improving solutions $(x_i, f(x_i))$.<br>\n",
    "Report also the final solution (route) $x^∗$ and the corresponding optimal distance $f(x^∗)$."
   ]
  },
  {
   "cell_type": "markdown",
   "id": "59bfb268",
   "metadata": {},
   "source": [
    "# Formulation\n",
    "## Symmetric TSP\n",
    "\n",
    "Let $c_e$ represent the cost of an edge and $x_e$ represent whether or not an edge was taken.\n",
    "\n",
    "### The minimisation formula is:\n",
    "$ min \\sum c_e x_e$\n",
    "\n",
    "### Subject to:\n",
    "- $ \\sum x_e = 2$. This ensures only one edge can come into a vertex and one edge can leave a vertex. <br>\n",
    "- $x_e \\in \\text{{0,1}}$. Whether or not an edge is being utilised."
   ]
  },
  {
   "cell_type": "markdown",
   "id": "6a8e5729",
   "metadata": {},
   "source": [
    "# Solution"
   ]
  },
  {
   "cell_type": "code",
   "execution_count": 2,
   "id": "71ccf614",
   "metadata": {},
   "outputs": [],
   "source": [
    "M = np.array([\n",
    "    [0,1.5,3,13,3.5,4.5,1.5],\n",
    "    [0,0,1.5,1.3,13,13,2.3],\n",
    "    [0,0,0,1.5,3,13,3],\n",
    "    [0,0,0,0,1.5,13,20],\n",
    "    [0,0,0,0,0,1.5,3.3],\n",
    "    [0,0,0,0,0,0,1.5],\n",
    "    [0,0,0,0,0,0,0]\n",
    "])\n",
    "M = M + M.T"
   ]
  },
  {
   "cell_type": "code",
   "execution_count": 3,
   "id": "0c34a511",
   "metadata": {},
   "outputs": [],
   "source": [
    "def calculate_distance(x,num_cities,M):\n",
    "    cost = 0\n",
    "    for i in range(num_cities-1):\n",
    "        city1 = x[i]\n",
    "        city2 = x[i+1]\n",
    "        cost += M[city1-1][city2-1]\n",
    "    cost += M[x[num_cities-1]-1][x[0]-1]\n",
    "    return cost"
   ]
  },
  {
   "cell_type": "code",
   "execution_count": 4,
   "id": "ad516eb7",
   "metadata": {},
   "outputs": [],
   "source": [
    "def Two_Opt(x_initial,Distance_Matrix):\n",
    "    print(\"-------------------------------------------START--------------------------------------------\")\n",
    "    number_of_cities = len(x_initial)\n",
    "    Tour = x_initial.copy()\n",
    "    Best_distance = calculate_distance(x_initial,number_of_cities,Distance_Matrix)\n",
    "    number_of_improvements = 0\n",
    "    for i in range(1,number_of_cities-1):\n",
    "        \n",
    "        for j in range(i+1,number_of_cities):\n",
    "            new_Tour = Tour.copy()\n",
    "            city_1 = Tour[i]\n",
    "            city_2 = Tour[j]\n",
    "            new_Tour[i] = city_2\n",
    "            new_Tour[j] = city_1\n",
    "            \n",
    "            new_tour_distance = calculate_distance(new_Tour,number_of_cities,Distance_Matrix)\n",
    "            \n",
    "            if(new_tour_distance < Best_distance):\n",
    "                number_of_improvements += 1\n",
    "                Tour = new_Tour.copy()\n",
    "                Best_distance = new_tour_distance\n",
    "                print(\"-------------------------------------------------------------------------------\")\n",
    "                print(f\"Improved Solution Found\")\n",
    "                print(f\"The improved tour is: {Tour}\")\n",
    "                print(f\"The improved cost is: {Best_distance}\")\n",
    "                print(\"-------------------------------------------------------------------------------\")\n",
    "                \n",
    "                i = 1\n",
    "    print(\"-------------------------------------------END--------------------------------------------\")\n",
    "    return Tour,Best_distance,number_of_improvements  "
   ]
  },
  {
   "cell_type": "code",
   "execution_count": 5,
   "id": "616e0abf",
   "metadata": {},
   "outputs": [
    {
     "name": "stdout",
     "output_type": "stream",
     "text": [
      "-------------------------------------------------------------------------------\n",
      "The initial Tour is: [2, 7, 1, 4, 6, 5, 3]\n",
      "The inital Tour Distance is: 35.8\n",
      "-------------------------------------------------------------------------------\n"
     ]
    }
   ],
   "source": [
    "x_initial = [2,7,1,4,6,5,3]\n",
    "print(\"-------------------------------------------------------------------------------\")\n",
    "print(f\"The initial Tour is: {x_initial}\")\n",
    "print(f\"The inital Tour Distance is: {calculate_distance(x_initial,len(x_initial),M)}\")\n",
    "print(\"-------------------------------------------------------------------------------\")"
   ]
  },
  {
   "cell_type": "code",
   "execution_count": 6,
   "id": "1275dd37",
   "metadata": {},
   "outputs": [
    {
     "name": "stdout",
     "output_type": "stream",
     "text": [
      "-------------------------------------------------------------------------------\n",
      "Improved Solution Found\n",
      "The improved tour is: [2, 4, 1, 7, 6, 5, 3]\n",
      "The improved cost is: 23.3\n",
      "-------------------------------------------------------------------------------\n",
      "-------------------------------------------------------------------------------\n",
      "Improved Solution Found\n",
      "The improved tour is: [2, 3, 1, 7, 6, 5, 4]\n",
      "The improved cost is: 11.8\n",
      "-------------------------------------------------------------------------------\n",
      "-------------------------------------------------------------------------------\n",
      "After a total of 2 improvements.\n",
      "The optimal Tour is: [2, 3, 1, 7, 6, 5, 4]\n",
      "The distance for the optimal tour is: 11.8\n",
      "-------------------------------------------------------------------------------\n"
     ]
    }
   ],
   "source": [
    "Tour,Best_distance,number_of_improvements  = Two_Opt(x_initial,M)\n",
    "print(\"-------------------------------------------------------------------------------\")\n",
    "print(f\"After a total of {number_of_improvements} improvements.\")\n",
    "print(f\"The optimal Tour is: {Tour}\")\n",
    "print(f\"The distance for the optimal tour is: {Best_distance}\")\n",
    "print(\"-------------------------------------------------------------------------------\")"
   ]
  }
 ],
 "metadata": {
  "kernelspec": {
   "display_name": "Python 3 (ipykernel)",
   "language": "python",
   "name": "python3"
  },
  "language_info": {
   "codemirror_mode": {
    "name": "ipython",
    "version": 3
   },
   "file_extension": ".py",
   "mimetype": "text/x-python",
   "name": "python",
   "nbconvert_exporter": "python",
   "pygments_lexer": "ipython3",
   "version": "3.9.12"
  },
  "vscode": {
   "interpreter": {
    "hash": "ad2bdc8ecc057115af97d19610ffacc2b4e99fae6737bb82f5d7fb13d2f2c186"
   }
  }
 },
 "nbformat": 4,
 "nbformat_minor": 5
}
