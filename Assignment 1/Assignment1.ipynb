{
 "cells": [
  {
   "cell_type": "markdown",
   "metadata": {},
   "source": [
    "# Yaseen Haffejee : 1827555"
   ]
  },
  {
   "cell_type": "code",
   "execution_count": 1,
   "metadata": {},
   "outputs": [],
   "source": [
    "import numpy as np"
   ]
  },
  {
   "cell_type": "markdown",
   "metadata": {},
   "source": [
    "# Question 1"
   ]
  },
  {
   "cell_type": "markdown",
   "metadata": {},
   "source": [
    "The Knapsack Problem (KP) is considered to be a combinatorial optimization problem. A Knapsack model serves as an abstract model with broad spectrum applications such as: Resource allocation problems, Portfolio optimization, Cargo-loading problems and Cutting stock problems. In linear KP the objective function and constraint(s) are linear. Formulate the linear KP mathematically using the following data. \n",
    "<br>\n",
    "<br>\n",
    "Linear Knapsack Problem: Consider the following pairs: <br>\n",
    "$(vi, wi) = {(2, 7), (6, 3), (8, 3), (7, 5), (3, 4), (4, 7), (6, 5),\n",
    "(5, 4), (10, 15), (9, 10), (8, 17), (11, 3), (12, 6), (15, 11), (6, 6),\n",
    "(8, 14), (13, 4), (14, 8), (15, 9), (16, 10), (26, 24)} $ <br> with profit $v_i$ and weight $w_i$ for the\n",
    "i-th item. <br>\n",
    "Total capacity W = 30."
   ]
  },
  {
   "cell_type": "markdown",
   "metadata": {},
   "source": [
    "## Solution\n",
    "\n",
    "### The mathematical formulation of the above problem is as follows:\n",
    "\n",
    "Denote the decision variable $x_i$ for each item i , such that:\n",
    "$x_i=   \\left\\{\n",
    "\\begin{array}{ll}\n",
    "      1 & \\text{if item i is chosen} \\\\\n",
    "      0 & \\text{otherwise} \\\\\n",
    "\\end{array} \n",
    "\\right.  $\n",
    "<br>\n",
    "\n",
    "### The total profit is given by:\n",
    "$ \\sum_{i=1}^{21} v_i x_i $\n",
    "\n",
    "<br>\n",
    "\n",
    "### The total money spent in buying items is given by:\n",
    "$ \\sum_{j=1}^{21} w_j x_j $\n",
    "\n",
    "<br>\n",
    "\n",
    "### The optimisation problem is given by:\n",
    "$ \\max \\; \\; \\sum_{i=1}^{21} v_i x_i \\; \\; \\\\ $\n",
    "<br>\n",
    "$ \\text{subject to} \\; \\; \\sum_{j=1}^{21} w_j x_j \\leq W , \\; \\; W = 30$ \n",
    "\n"
   ]
  },
  {
   "cell_type": "markdown",
   "metadata": {},
   "source": [
    "# Question 2\n",
    "Use the following greedy algorithm to solve the above problem in Q1. <br>\n",
    "\n",
    "Algorithm 1: Greedy Algorithm\n",
    "1. Identify the available items with their weights and values and take note of the maximum capacity of the bag.\n",
    "2. Use a score or efficiency function, i.e. the profit to weight ratio: $ \\frac{v_i} {w_i}\n",
    "(\\frac{v_i} {wi} ≥ \\frac{vj}{wj} ···)$\n",
    "3. Sort the items non-increasingly according to the efficiency function.\n",
    "4. Add into knapsack the items with the highest score, taking note of their accumulative weights until no item can be added.\n",
    "5. Return the set of items that satisfies the weight limit and yields maximum profit."
   ]
  },
  {
   "cell_type": "markdown",
   "metadata": {},
   "source": [
    "## Solution"
   ]
  },
  {
   "cell_type": "code",
   "execution_count": 2,
   "metadata": {},
   "outputs": [],
   "source": [
    "profits_and_weights = [(2, 7), (6, 3), (8, 3), (7, 5), (3, 4), (4, 7), (6, 5),(5, 4), (10, 15), (9, 10), (8, 17), (11, 3), (12, 6), (15, 11), (6, 6), (8, 14), (13, 4), (14, 8), (15, 9), (16, 10), (26, 24)]\n",
    "W = 30"
   ]
  },
  {
   "cell_type": "code",
   "execution_count": 3,
   "metadata": {},
   "outputs": [],
   "source": [
    "def efficiency_function(data):\n",
    "    ratios = []\n",
    "    ## Getting the ratio of profit over weight\n",
    "    for v,w in data:\n",
    "        ratios.append(v/w)\n",
    "\n",
    "    non_increasing_indices =list(np.argsort(ratios)[::-1])\n",
    "    sorted_profits_and_weights = [data[i] for i in non_increasing_indices]\n",
    "    return sorted_profits_and_weights"
   ]
  },
  {
   "cell_type": "code",
   "execution_count": 4,
   "metadata": {},
   "outputs": [
    {
     "name": "stdout",
     "output_type": "stream",
     "text": [
      "------------------- Algorithm 1 ------------------- \n",
      "\n",
      "The total weight of the items in the knapsack is: 27.\n",
      "\n",
      "The total profit is: 64. \n",
      "\n",
      "The items in the knapsack are: [(11, 3), (13, 4), (8, 3), (12, 6), (6, 3), (14, 8)]. \n",
      "\n",
      "----------------------- END ------------------------ \n",
      "\n"
     ]
    }
   ],
   "source": [
    "profits_and_weights_sorted_non_increasingly = efficiency_function(profits_and_weights)\n",
    "accumulative_weight = 0\n",
    "items_in_knapsack = []\n",
    "total_profit = 0\n",
    "for profit,weight in profits_and_weights_sorted_non_increasingly:\n",
    "\n",
    "    if accumulative_weight+weight <= W:\n",
    "        items_in_knapsack.append((profit,weight))\n",
    "        accumulative_weight += weight\n",
    "        total_profit += profit\n",
    "        \n",
    "print(f\"------------------- Algorithm 1 ------------------- \\n\")\n",
    "print(f\"The total weight of the items in the knapsack is: {accumulative_weight}.\\n\")\n",
    "print(f\"The total profit is: {total_profit}. \\n\")\n",
    "print(f\"The items in the knapsack are: {items_in_knapsack}. \\n\")\n",
    "print(f\"----------------------- END ------------------------ \\n\")\n"
   ]
  },
  {
   "cell_type": "markdown",
   "metadata": {},
   "source": [
    "# Question 3\n",
    "Construct a penalty function of the maximization problem in Q1 with penalty parameter R = 25. Maximize the linear KP problem in Q1 via maximizing the penalty function using the iterative improvement local search (IILS). IILS uses passes and epochs. Each Pass executes a number of Epochs and each Epoch lock a variable. Epoch 1 always begins with $x_0$ . IILS operates as follows:\n",
    "<br>\n",
    "- Epochs within a Pass continue locking variables until an overall best solution (better than x0 ) is found when a new pass begins (with Epoch 1).\n",
    "- When all the Epochs in a Pass is unable to find an overall best solution (better than x0 ) then IILS stops with x0 as the minimum value. Note that execution of all Epochs in a Pass means all variables are locked.<br>\n",
    "- You must start your initial solution $x_\\theta = (x_1, x_2, · · · , x_{21})^T$ such that $x_1 = x_2 = x_3 = x_4 = x_5 = 1$, and $x_i = 0$ for all $i = 6, 7, · · · , 21.$"
   ]
  },
  {
   "cell_type": "markdown",
   "metadata": {},
   "source": [
    "## Solution"
   ]
  },
  {
   "cell_type": "markdown",
   "metadata": {},
   "source": [
    "### The constrained maximisation problem is denoted by:\n",
    "$F(x;R) = \\sum_{i=1}^{21} v_i x_i - R \\phi(x)$\n",
    "\n",
    "where $\\phi(x) = max(0,g(x)) $ and $g(x) = \\sum_{j=1}^{21} w_i x_i$\n",
    "\n",
    "$ \\Rightarrow F(x;R=25) = \\sum_{i=1}^{21} v_i x_i - 25max(0,\\sum_{j=1}^{21} w_i x_i) $"
   ]
  },
  {
   "cell_type": "code",
   "execution_count": 5,
   "metadata": {},
   "outputs": [],
   "source": [
    "def penalty_function(weights,x,W = 30):\n",
    "    \n",
    "    g_x = np.sum(weights*x) - W\n",
    "    \n",
    "    return max(0,g_x)\n",
    "\n",
    "profits = np.array(profits_and_weights)[:,0]\n",
    "weights = np.array(profits_and_weights)[:,1]\n",
    "\n",
    "def F(x,R,weights = weights,profits = profits):\n",
    "    vi_xi = np.sum(profits*x)\n",
    "    return vi_xi - (R * penalty_function(weights,x))\n",
    "    \n",
    "def generate_subset_solutions(x0,current_max,locked_indices, n = 21, R =25):\n",
    "    x_vals = []\n",
    "    func_vals = []\n",
    "    for i in range(n):\n",
    "        new_x = np.copy(x0)\n",
    "        new_x[i] = 1 - new_x[i]\n",
    "        if(locked_indices[i] == 1):\n",
    "            value = -7000000\n",
    "        else:\n",
    "            value = F(new_x,R)\n",
    "        x_vals.append(new_x)\n",
    "        func_vals.append(value)\n",
    "        if value > current_max:\n",
    "            return value, new_x,1\n",
    "    \n",
    "    # since all the new solutions are smaller, we return the one which yielded the max value from this set\n",
    "    idx_max = np.argmax(func_vals)\n",
    "    return idx_max, x_vals[idx_max]\n",
    "\n",
    "def get_items_in_knapsack(x0,profits_and_weights):\n",
    "    idx = np.where(x0 ==1)\n",
    "    l = []\n",
    "    for i in idx[0]:\n",
    "        l.append(profits_and_weights[i])\n",
    "    return l"
   ]
  },
  {
   "cell_type": "code",
   "execution_count": 6,
   "metadata": {},
   "outputs": [
    {
     "name": "stdout",
     "output_type": "stream",
     "text": [
      "The initial solution x0 is: [1. 1. 1. 1. 1. 0. 0. 0. 0. 0. 0. 0. 0. 0. 0. 0. 0. 0. 0. 0. 0.]\n"
     ]
    }
   ],
   "source": [
    "x0 = np.zeros(21)\n",
    "x0[:5] = 1\n",
    "\n",
    "print(f\"The initial solution x0 is: {x0}\")"
   ]
  },
  {
   "cell_type": "code",
   "execution_count": 7,
   "metadata": {},
   "outputs": [
    {
     "name": "stdout",
     "output_type": "stream",
     "text": [
      "------------------- Algorithm 2 ------------------- \n",
      "\n",
      "The total weight of the items in the knapsack is: 29.0.\n",
      "\n",
      "The total profit is: 63.0. \n",
      "\n",
      "The items in the knapsack are: [(6, 3), (8, 3), (7, 5), (6, 5), (11, 3), (12, 6), (13, 4)]. \n",
      "\n",
      "The solution x is: [0. 1. 1. 1. 0. 0. 1. 0. 0. 0. 0. 1. 1. 0. 0. 0. 1. 0. 0. 0. 0.]\n",
      "----------------------- END ------------------------ \n",
      "\n"
     ]
    }
   ],
   "source": [
    "pass_iterator = 1\n",
    "R = 25\n",
    "n = len(profits_and_weights)\n",
    "while pass_iterator:\n",
    "    locked_indices = [0]*n\n",
    "    pass_iterator = 0 # remember to update it if the solution gives bigger value\n",
    "    \n",
    "    maximum_value = F(x0,R)\n",
    "    # print(maximum_value)\n",
    "    epoch_iterator = 1\n",
    "    local_x = x0\n",
    "    while epoch_iterator:\n",
    "        # Calculate all new x vectors\n",
    "        temporary = generate_subset_solutions(local_x,maximum_value,locked_indices,n,R)\n",
    "        if(len(temporary)==2):  # None of the new x arrays are greater than current function value\n",
    "            index = temporary[0] \n",
    "            local_x = temporary[1]\n",
    "            locked_indices[index] = 1\n",
    "            if(np.sum(locked_indices) != n):\n",
    "                pass_iterator = 1\n",
    "            else: # All variables have been locked\n",
    "                epoch_iterator = 0\n",
    "                pass_iterator = 0\n",
    "        else:# Found a solution that is greater than the current_max\n",
    "            x0 = temporary[1]\n",
    "            epoch_iterator = 0\n",
    "            pass_iterator = 1\n",
    "    \n",
    "    \n",
    "print(f\"------------------- Algorithm 2 ------------------- \\n\")\n",
    "print(f\"The total weight of the items in the knapsack is: {np.dot(x0,weights)}.\\n\")\n",
    "print(f\"The total profit is: {np.dot(x0,profits)}. \\n\")\n",
    "print(f\"The items in the knapsack are: {get_items_in_knapsack(x0,profits_and_weights)}. \\n\")\n",
    "print(f'The solution x is: {x0}')\n",
    "print(f\"----------------------- END ------------------------ \\n\")"
   ]
  }
 ],
 "metadata": {
  "kernelspec": {
   "display_name": "Python 3 (ipykernel)",
   "language": "python",
   "name": "python3"
  },
  "language_info": {
   "codemirror_mode": {
    "name": "ipython",
    "version": 3
   },
   "file_extension": ".py",
   "mimetype": "text/x-python",
   "name": "python",
   "nbconvert_exporter": "python",
   "pygments_lexer": "ipython3",
   "version": "3.9.12"
  },
  "vscode": {
   "interpreter": {
    "hash": "ad2bdc8ecc057115af97d19610ffacc2b4e99fae6737bb82f5d7fb13d2f2c186"
   }
  }
 },
 "nbformat": 4,
 "nbformat_minor": 2
}
