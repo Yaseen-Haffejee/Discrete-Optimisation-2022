{
 "cells": [
  {
   "cell_type": "markdown",
   "metadata": {},
   "source": [
    "# Importing Libraries"
   ]
  },
  {
   "cell_type": "code",
   "execution_count": 14,
   "metadata": {},
   "outputs": [],
   "source": [
    "import numpy as np"
   ]
  },
  {
   "cell_type": "markdown",
   "metadata": {},
   "source": [
    "# Question 1"
   ]
  },
  {
   "cell_type": "markdown",
   "metadata": {},
   "source": [
    "The Knapsack Problem (KP) is considered to be a combinatorial optimization problem. A Knapsack model serves as an abstract model with broad spectrum applications such as: Resource allocation problems, Portfolio optimization, Cargo-loading problems and Cutting stock problems. In linear KP the objective function and constraint(s) are linear. Formulate the linear KP mathematically using the following data. \n",
    "<br>\n",
    "<br>\n",
    "Linear Knapsack Problem: Consider the following pairs: <br>\n",
    "$(vi, wi) = {(2, 7), (6, 3), (8, 3), (7, 5), (3, 4), (4, 7), (6, 5),\n",
    "(5, 4), (10, 15), (9, 10), (8, 17), (11, 3), (12, 6), (15, 11), (6, 6),\n",
    "(8, 14), (13, 4), (14, 8), (15, 9), (16, 10), (26, 24)} $ <br> with profit $v_i$ and weight $w_i$ for the\n",
    "i-th item. <br>\n",
    "Total capacity W = 30."
   ]
  },
  {
   "cell_type": "markdown",
   "metadata": {},
   "source": [
    "## Solution\n",
    "\n",
    "### The mathematical formulation of the above problem is as follows:\n",
    "\n",
    "Denote the decision variable $x_i$ for each item i , such that:\n",
    "    $$ x_i=   \\left\\{\n",
    "\\begin{array}{ll}\n",
    "      1 & \\text{if item i is chosen} \\\\\n",
    "      0 & \\text{otherwise} \\\\\n",
    "\\end{array} \n",
    "\\right.  $$\n",
    "<br>\n",
    "\n",
    "### The total profit is given by:\n",
    "$\\sum_{i=1}^{21} v_i x_i $\n",
    "\n",
    "<br>\n",
    "\n",
    "### The total money spent in buying items is given by:\n",
    "$\\sum_{j=1}^{21} w_j x_j $\n",
    "\n",
    "<br>\n",
    "\n",
    "### The optimisation problem is given by:\n",
    "$ \\max \\; \\; \\sum_{i=1}^{21} v_i x_i \\; \\; \\\\ $\n",
    "<br>\n",
    "$\\text{subject to} \\; \\; \\sum_{j=1}^{21} w_j x_j \\leq W , \\; \\; W = 30$ "
   ]
  },
  {
   "cell_type": "markdown",
   "metadata": {},
   "source": [
    "# Question 2\n",
    "Use the following greedy algorithm to solve the above problem in Q1. <br>\n",
    "\n",
    "Algorithm 1: Greedy Algorithm\n",
    "1. Identify the available items with their weights and values and take note of the\n",
    "maximum capacity of the bag.\n",
    "2. Use a score or efficiency function, i.e. the profit to weight ratio: $ \\frac{v_i} {w_i}\n",
    "(\\frac{v_i} {wi} ≥ \\frac{vj}{wj} ···)$\n",
    "3. Sort the items non-increasingly according to the efficiency function.\n",
    "4. Add into knapsack the items with the highest score, taking note of their accumulative weights until no item can be added.\n",
    "5. Return the set of items that satisfies the weight limit and yields maximum\n",
    "profit."
   ]
  },
  {
   "cell_type": "markdown",
   "metadata": {},
   "source": [
    "## Solution"
   ]
  },
  {
   "cell_type": "code",
   "execution_count": 49,
   "metadata": {},
   "outputs": [],
   "source": [
    "profits_and_weights = [(2, 7), (6, 3), (8, 3), (7, 5), (3, 4), (4, 7), (6, 5),(5, 4), (10, 15), (9, 10), (8, 17), (11, 3), (12, 6), (15, 11), (6, 6), (8, 14), (13, 4), (14, 8), (15, 9), (16, 10), (26, 24)]\n",
    "W = 30"
   ]
  },
  {
   "cell_type": "code",
   "execution_count": 42,
   "metadata": {},
   "outputs": [],
   "source": [
    "def efficiency_function(data):\n",
    "    ratios = []\n",
    "    ## Getting the ratio of profit over weight\n",
    "    for v,w in data:\n",
    "        ratios.append(v/w)\n",
    "\n",
    "    non_increasing_indices =list(np.argsort(ratios)[::-1])\n",
    "    sorted_profits_and_weights = [data[i] for i in non_increasing_indices]\n",
    "    return sorted_profits_and_weights"
   ]
  },
  {
   "cell_type": "code",
   "execution_count": 58,
   "metadata": {},
   "outputs": [
    {
     "name": "stdout",
     "output_type": "stream",
     "text": [
      "----------- Algorithm 1 ----------- \n",
      "\n",
      "The items in the knapsack are: [(11, 3), (13, 4), (8, 3), (12, 6), (6, 3), (14, 8)]. \n",
      "\n",
      "The weight of the items in the knapsack is: 27.\n",
      "\n",
      "The profit is: 64. \n",
      "\n",
      "--------------------- END ------------------- \n",
      "\n"
     ]
    }
   ],
   "source": [
    "profits_and_weights_sorted_non_increasingly = efficiency_function(profits_and_weights)\n",
    "# print(profits_and_weights_sorted_non_increasingly)\n",
    "accumulative_weight = 0\n",
    "items_in_knapsack = []\n",
    "total_profit = 0\n",
    "for profit,weight in profits_and_weights_sorted_non_increasingly:\n",
    "\n",
    "    if accumulative_weight+weight <= W:\n",
    "        items_in_knapsack.append((profit,weight))\n",
    "        accumulative_weight += weight\n",
    "        total_profit += profit\n",
    "        \n",
    "print(f\"----------- Algorithm 1 ----------- \\n\")\n",
    "print(f\"The items in the knapsack are: {items_in_knapsack}. \\n\")\n",
    "print(f\"The weight of the items in the knapsack is: {accumulative_weight}.\\n\")\n",
    "print(f\"The profit is: {total_profit}. \\n\")\n",
    "print(f\"--------------------- END ------------------- \\n\")\n"
   ]
  },
  {
   "cell_type": "markdown",
   "metadata": {},
   "source": [
    "# Question 3\n",
    "Construct a penalty function of the maximization problem in Q1 with penalty pa-\n",
    "rameter R = 25. Maximize the linear KP problem in Q1 via maximizing the penalty\n",
    "function using the iterative improvement local search (IILS). IILS uses passes and\n",
    "epochs. Each Pass executes a number of Epochs and each Epoch lock a variable.\n",
    "Epoch 1 always begins with x0 . IILS operates as follows:\n",
    "<br>\n",
    "- Epochs within a Pass continue locking variables until an overall best solution\n",
    "(better than x0 ) is found when a new pass begins (with Epoch 1).\n",
    "- When all the Epochs in a Pass is unable to find an overall best solution (better\n",
    "than x0 ) then IILS stops with x0 as the minimum value. Note that execution\n",
    "of all Epochs in a Pass means all variables are locked."
   ]
  },
  {
   "cell_type": "code",
   "execution_count": null,
   "metadata": {},
   "outputs": [],
   "source": []
  },
  {
   "cell_type": "code",
   "execution_count": null,
   "metadata": {},
   "outputs": [],
   "source": []
  },
  {
   "cell_type": "markdown",
   "metadata": {},
   "source": []
  }
 ],
 "metadata": {
  "kernelspec": {
   "display_name": "Python 3.9.12 ('base')",
   "language": "python",
   "name": "python3"
  },
  "language_info": {
   "codemirror_mode": {
    "name": "ipython",
    "version": 3
   },
   "file_extension": ".py",
   "mimetype": "text/x-python",
   "name": "python",
   "nbconvert_exporter": "python",
   "pygments_lexer": "ipython3",
   "version": "3.9.13"
  },
  "orig_nbformat": 4,
  "vscode": {
   "interpreter": {
    "hash": "8e4aa72a716255919dcbb93c0da856562df5243ffc4390654f19cf6c1c629f42"
   }
  }
 },
 "nbformat": 4,
 "nbformat_minor": 2
}
